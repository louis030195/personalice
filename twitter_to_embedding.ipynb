{
 "cells": [
  {
   "cell_type": "code",
   "execution_count": null,
   "metadata": {},
   "outputs": [],
   "source": [
    "import snscrape.modules.twitter as sntwitter\n",
    "import pandas as pd\n",
    "\n",
    "# Created a list to append all tweet attributes(data)\n",
    "attributes_container = []\n",
    "\n",
    "# Using TwitterSearchScraper to scrape data and append tweets to list\n",
    "for i,tweet in enumerate(sntwitter.TwitterSearchScraper('from:louis030195').get_items()):\n",
    "    if i>100:\n",
    "        break\n",
    "    attributes_container.append([tweet.date, tweet.likeCount, tweet.sourceLabel, tweet.content])\n",
    "    \n",
    "# Creating a dataframe from the tweets list above \n",
    "tweets_df = pd.DataFrame(attributes_container, columns=[\"Date Created\", \"Number of Likes\", \"Source of Tweet\", \"Tweets\"])\n",
    "tweets_df"
   ]
  },
  {
   "cell_type": "code",
   "execution_count": 31,
   "metadata": {},
   "outputs": [
    {
     "data": {
      "application/vnd.jupyter.widget-view+json": {
       "model_id": "79ec091fe2bf434d885269542de0e701",
       "version_major": 2,
       "version_minor": 0
      },
      "text/plain": [
       "Downloading:   0%|          | 0.00/1.18k [00:00<?, ?B/s]"
      ]
     },
     "metadata": {},
     "output_type": "display_data"
    },
    {
     "data": {
      "application/vnd.jupyter.widget-view+json": {
       "model_id": "a1fa12de4eae42bb875da9b820036f47",
       "version_major": 2,
       "version_minor": 0
      },
      "text/plain": [
       "Downloading:   0%|          | 0.00/190 [00:00<?, ?B/s]"
      ]
     },
     "metadata": {},
     "output_type": "display_data"
    },
    {
     "data": {
      "application/vnd.jupyter.widget-view+json": {
       "model_id": "a4a9f268b152425ab1ee4a2589609830",
       "version_major": 2,
       "version_minor": 0
      },
      "text/plain": [
       "Downloading:   0%|          | 0.00/10.6k [00:00<?, ?B/s]"
      ]
     },
     "metadata": {},
     "output_type": "display_data"
    },
    {
     "data": {
      "application/vnd.jupyter.widget-view+json": {
       "model_id": "3e552ac987e74c84a166c67d5d3c5a5c",
       "version_major": 2,
       "version_minor": 0
      },
      "text/plain": [
       "Downloading:   0%|          | 0.00/612 [00:00<?, ?B/s]"
      ]
     },
     "metadata": {},
     "output_type": "display_data"
    },
    {
     "data": {
      "application/vnd.jupyter.widget-view+json": {
       "model_id": "e6af9ff9ddf34c96bfdd2a8ea151ce30",
       "version_major": 2,
       "version_minor": 0
      },
      "text/plain": [
       "Downloading:   0%|          | 0.00/116 [00:00<?, ?B/s]"
      ]
     },
     "metadata": {},
     "output_type": "display_data"
    },
    {
     "data": {
      "application/vnd.jupyter.widget-view+json": {
       "model_id": "927606daaf284fafb172367a44998dda",
       "version_major": 2,
       "version_minor": 0
      },
      "text/plain": [
       "Downloading:   0%|          | 0.00/39.3k [00:00<?, ?B/s]"
      ]
     },
     "metadata": {},
     "output_type": "display_data"
    },
    {
     "data": {
      "application/vnd.jupyter.widget-view+json": {
       "model_id": "dd1af461276b4f0eae43dea81ce799c6",
       "version_major": 2,
       "version_minor": 0
      },
      "text/plain": [
       "Downloading:   0%|          | 0.00/90.9M [00:00<?, ?B/s]"
      ]
     },
     "metadata": {},
     "output_type": "display_data"
    },
    {
     "data": {
      "application/vnd.jupyter.widget-view+json": {
       "model_id": "07d82669423f4065939e35a17ad7910f",
       "version_major": 2,
       "version_minor": 0
      },
      "text/plain": [
       "Downloading:   0%|          | 0.00/53.0 [00:00<?, ?B/s]"
      ]
     },
     "metadata": {},
     "output_type": "display_data"
    },
    {
     "data": {
      "application/vnd.jupyter.widget-view+json": {
       "model_id": "6a4a44e16ee5410e9b8a3ad580dcc49c",
       "version_major": 2,
       "version_minor": 0
      },
      "text/plain": [
       "Downloading:   0%|          | 0.00/112 [00:00<?, ?B/s]"
      ]
     },
     "metadata": {},
     "output_type": "display_data"
    },
    {
     "data": {
      "application/vnd.jupyter.widget-view+json": {
       "model_id": "8350a75a06d641aa9a34a7537f0e4d25",
       "version_major": 2,
       "version_minor": 0
      },
      "text/plain": [
       "Downloading:   0%|          | 0.00/466k [00:00<?, ?B/s]"
      ]
     },
     "metadata": {},
     "output_type": "display_data"
    },
    {
     "data": {
      "application/vnd.jupyter.widget-view+json": {
       "model_id": "53d0f980a48b47768c55eb67c43b4c26",
       "version_major": 2,
       "version_minor": 0
      },
      "text/plain": [
       "Downloading:   0%|          | 0.00/350 [00:00<?, ?B/s]"
      ]
     },
     "metadata": {},
     "output_type": "display_data"
    },
    {
     "data": {
      "application/vnd.jupyter.widget-view+json": {
       "model_id": "ac0be73dac7143b8b70c1a78a776faa0",
       "version_major": 2,
       "version_minor": 0
      },
      "text/plain": [
       "Downloading:   0%|          | 0.00/13.2k [00:00<?, ?B/s]"
      ]
     },
     "metadata": {},
     "output_type": "display_data"
    },
    {
     "data": {
      "application/vnd.jupyter.widget-view+json": {
       "model_id": "ea7dcb7fa2ae415fa763efb703ddb5e2",
       "version_major": 2,
       "version_minor": 0
      },
      "text/plain": [
       "Downloading:   0%|          | 0.00/232k [00:00<?, ?B/s]"
      ]
     },
     "metadata": {},
     "output_type": "display_data"
    },
    {
     "data": {
      "application/vnd.jupyter.widget-view+json": {
       "model_id": "3d570a2209d04098948f66f088b6a5fc",
       "version_major": 2,
       "version_minor": 0
      },
      "text/plain": [
       "Downloading:   0%|          | 0.00/349 [00:00<?, ?B/s]"
      ]
     },
     "metadata": {},
     "output_type": "display_data"
    }
   ],
   "source": [
    "from sentence_transformers import SentenceTransformer\n",
    "model = SentenceTransformer('all-MiniLM-L6-v2')"
   ]
  },
  {
   "cell_type": "code",
   "execution_count": 36,
   "metadata": {},
   "outputs": [
    {
     "name": "stdout",
     "output_type": "stream",
     "text": [
      "Prompt: Tweet content: A rational person can find peace by cultivating indifference to things outside of their control.\n",
      "\n",
      "Short list of main topics: rationality,wisdom,stoicism\n",
      "\n",
      "###\n",
      "\n",
      "Tweet content: Good product design requires an obsessed artist - it’s not a part-time job.\n",
      "\n",
      "Short list of main topics: product-design,art,product\n",
      "\n",
      "###\n",
      "\n",
      "Tweet content: @pyoudeyer @FlowersINRIA @Inria @awjuliani @unity3d \"Period: beg. 2018 to summer 2018\" did you mean 2019 to summer 2019 ?\n",
      "\n",
      "Short list of main topics:\n",
      "Could not generate topics for tweet:  @pyoudeyer @FlowersINRIA @Inria @awjuliani @unity3d \"Period: beg. 2018 to summer 2018\" did you mean 2019 to summer 2019 ?\n"
     ]
    },
    {
     "name": "stderr",
     "output_type": "stream",
     "text": [
      "88it [14:27,  9.85s/it]\n"
     ]
    }
   ],
   "source": [
    "import os\n",
    "import openai\n",
    "import time\n",
    "import re\n",
    "from IPython. display import clear_output\n",
    "from tqdm import tqdm\n",
    "values = open(\".env\", \"r\").read()\n",
    "openai_api_key = re.findall(r\"OPENAI_API_KEY=\\\"(.*)\\\"\", values)[0]\n",
    "openai_org = re.findall(r\"OPENAI_ORG=\\\"(.*)\\\"\", values)[0]\n",
    "openai.api_key = openai_api_key\n",
    "openai.organization = openai_org\n",
    "def build_prompt(tweet):\n",
    "  return f\"\"\"Tweet content: A rational person can find peace by cultivating indifference to things outside of their control.\n",
    "\n",
    "Short list of main topics: rationality,wisdom,stoicism\n",
    "\n",
    "###\n",
    "\n",
    "Tweet content: Good product design requires an obsessed artist - it’s not a part-time job.\n",
    "\n",
    "Short list of main topics: product-design,art,product\n",
    "\n",
    "###\n",
    "\n",
    "Tweet content: {tweet}\n",
    "\n",
    "Short list of main topics:\"\"\"\n",
    "\n",
    "delay = 2\n",
    "embeddings = []\n",
    "for k, v in tqdm(tweets_df.iterrows()):\n",
    "    clear_output(wait=True)\n",
    "    tweet = v[\"Tweets\"]\n",
    "    prompt = build_prompt(tweet)\n",
    "    print(f\"Prompt: {prompt}\")\n",
    "    try:\n",
    "        response = openai.Completion.create(\n",
    "            model=\"code-davinci-002\",\n",
    "            prompt=prompt,\n",
    "            temperature=0,\n",
    "            max_tokens=256,\n",
    "            top_p=1,\n",
    "            frequency_penalty=0,\n",
    "            presence_penalty=0,\n",
    "            stop=[\"###\", \"\\n\"]\n",
    "        )\n",
    "    # in case of RateLimitError, wait 1 minute and try again\n",
    "    except Exception as e:\n",
    "        print(f\"Error: {e}\")\n",
    "        time.sleep(60)\n",
    "        continue\n",
    "    text = response['choices'][0]['text']\n",
    "    if not text:\n",
    "        print(\"Could not generate topics for tweet: \", tweet)\n",
    "        time.sleep(delay)\n",
    "        continue\n",
    "    print(f\"Completion: {text}\")\n",
    "    tweets_df.at[k, \"Topics\"] = text\n",
    "    embeddings.append(model.encode([text]))\n",
    "    time.sleep(delay)"
   ]
  },
  {
   "cell_type": "code",
   "execution_count": 38,
   "metadata": {},
   "outputs": [
    {
     "data": {
      "text/html": [
       "<div>\n",
       "<style scoped>\n",
       "    .dataframe tbody tr th:only-of-type {\n",
       "        vertical-align: middle;\n",
       "    }\n",
       "\n",
       "    .dataframe tbody tr th {\n",
       "        vertical-align: top;\n",
       "    }\n",
       "\n",
       "    .dataframe thead th {\n",
       "        text-align: right;\n",
       "    }\n",
       "</style>\n",
       "<table border=\"1\" class=\"dataframe\">\n",
       "  <thead>\n",
       "    <tr style=\"text-align: right;\">\n",
       "      <th></th>\n",
       "      <th>Date Created</th>\n",
       "      <th>Number of Likes</th>\n",
       "      <th>Source of Tweet</th>\n",
       "      <th>Tweets</th>\n",
       "      <th>Topics</th>\n",
       "    </tr>\n",
       "  </thead>\n",
       "  <tbody>\n",
       "    <tr>\n",
       "      <th>0</th>\n",
       "      <td>2022-10-31 10:58:34+00:00</td>\n",
       "      <td>1</td>\n",
       "      <td>Twitter Web App</td>\n",
       "      <td>@ZinaSarif Curious to know what algorithm is r...</td>\n",
       "      <td>algorithm,running</td>\n",
       "    </tr>\n",
       "    <tr>\n",
       "      <th>1</th>\n",
       "      <td>2022-10-30 16:44:11+00:00</td>\n",
       "      <td>0</td>\n",
       "      <td>Twitter Web App</td>\n",
       "      <td>I wrote a poem about linear algebra (@StableDi...</td>\n",
       "      <td>linear-algebra,gpt3,poem</td>\n",
       "    </tr>\n",
       "    <tr>\n",
       "      <th>2</th>\n",
       "      <td>2022-10-30 16:00:46+00:00</td>\n",
       "      <td>0</td>\n",
       "      <td>Twitter Web App</td>\n",
       "      <td>@fchollet Processes and culture are code for p...</td>\n",
       "      <td>programming,culture,processes</td>\n",
       "    </tr>\n",
       "    <tr>\n",
       "      <th>3</th>\n",
       "      <td>2022-10-30 15:35:47+00:00</td>\n",
       "      <td>1</td>\n",
       "      <td>Twitter Web App</td>\n",
       "      <td>@StableDiffusion &amp;amp; @OpenAI #gpt3 in @obsdm...</td>\n",
       "      <td>gpt3,openai,obsdmd</td>\n",
       "    </tr>\n",
       "    <tr>\n",
       "      <th>4</th>\n",
       "      <td>2022-10-16 07:53:41+00:00</td>\n",
       "      <td>0</td>\n",
       "      <td>Twitter Web App</td>\n",
       "      <td>@twitnickl I really appreciate your comment Ni...</td>\n",
       "      <td>NaN</td>\n",
       "    </tr>\n",
       "    <tr>\n",
       "      <th>...</th>\n",
       "      <td>...</td>\n",
       "      <td>...</td>\n",
       "      <td>...</td>\n",
       "      <td>...</td>\n",
       "      <td>...</td>\n",
       "    </tr>\n",
       "    <tr>\n",
       "      <th>83</th>\n",
       "      <td>2019-02-19 07:53:09+00:00</td>\n",
       "      <td>1</td>\n",
       "      <td>Twitter for Android</td>\n",
       "      <td>@AndrewYNg Internet is the best school anyway</td>\n",
       "      <td>internet,school</td>\n",
       "    </tr>\n",
       "    <tr>\n",
       "      <th>84</th>\n",
       "      <td>2019-01-24 18:58:00+00:00</td>\n",
       "      <td>0</td>\n",
       "      <td>Twitter Web Client</td>\n",
       "      <td>@DeepMindAI @Blizzard_Ent @Artosis @RotterdaM0...</td>\n",
       "      <td>NaN</td>\n",
       "    </tr>\n",
       "    <tr>\n",
       "      <th>85</th>\n",
       "      <td>2018-12-23 16:19:15+00:00</td>\n",
       "      <td>0</td>\n",
       "      <td>Twitter for Android</td>\n",
       "      <td>@farnamstreet Siddhartha - Hermann Hesse</td>\n",
       "      <td>NaN</td>\n",
       "    </tr>\n",
       "    <tr>\n",
       "      <th>86</th>\n",
       "      <td>2018-12-09 19:37:05+00:00</td>\n",
       "      <td>1</td>\n",
       "      <td>Twitter for Android</td>\n",
       "      <td>@awjuliani @jeffclune I'm looking forward to s...</td>\n",
       "      <td>open-source,algorithm,openai</td>\n",
       "    </tr>\n",
       "    <tr>\n",
       "      <th>87</th>\n",
       "      <td>2018-11-27 20:02:22+00:00</td>\n",
       "      <td>0</td>\n",
       "      <td>Twitter Web Client</td>\n",
       "      <td>@pyoudeyer @FlowersINRIA @Inria @awjuliani @un...</td>\n",
       "      <td>NaN</td>\n",
       "    </tr>\n",
       "  </tbody>\n",
       "</table>\n",
       "<p>88 rows × 5 columns</p>\n",
       "</div>"
      ],
      "text/plain": [
       "                Date Created  Number of Likes      Source of Tweet  \\\n",
       "0  2022-10-31 10:58:34+00:00                1      Twitter Web App   \n",
       "1  2022-10-30 16:44:11+00:00                0      Twitter Web App   \n",
       "2  2022-10-30 16:00:46+00:00                0      Twitter Web App   \n",
       "3  2022-10-30 15:35:47+00:00                1      Twitter Web App   \n",
       "4  2022-10-16 07:53:41+00:00                0      Twitter Web App   \n",
       "..                       ...              ...                  ...   \n",
       "83 2019-02-19 07:53:09+00:00                1  Twitter for Android   \n",
       "84 2019-01-24 18:58:00+00:00                0   Twitter Web Client   \n",
       "85 2018-12-23 16:19:15+00:00                0  Twitter for Android   \n",
       "86 2018-12-09 19:37:05+00:00                1  Twitter for Android   \n",
       "87 2018-11-27 20:02:22+00:00                0   Twitter Web Client   \n",
       "\n",
       "                                               Tweets  \\\n",
       "0   @ZinaSarif Curious to know what algorithm is r...   \n",
       "1   I wrote a poem about linear algebra (@StableDi...   \n",
       "2   @fchollet Processes and culture are code for p...   \n",
       "3   @StableDiffusion &amp; @OpenAI #gpt3 in @obsdm...   \n",
       "4   @twitnickl I really appreciate your comment Ni...   \n",
       "..                                                ...   \n",
       "83      @AndrewYNg Internet is the best school anyway   \n",
       "84  @DeepMindAI @Blizzard_Ent @Artosis @RotterdaM0...   \n",
       "85           @farnamstreet Siddhartha - Hermann Hesse   \n",
       "86  @awjuliani @jeffclune I'm looking forward to s...   \n",
       "87  @pyoudeyer @FlowersINRIA @Inria @awjuliani @un...   \n",
       "\n",
       "                            Topics  \n",
       "0                algorithm,running  \n",
       "1         linear-algebra,gpt3,poem  \n",
       "2    programming,culture,processes  \n",
       "3               gpt3,openai,obsdmd  \n",
       "4                              NaN  \n",
       "..                             ...  \n",
       "83                 internet,school  \n",
       "84                             NaN  \n",
       "85                             NaN  \n",
       "86    open-source,algorithm,openai  \n",
       "87                             NaN  \n",
       "\n",
       "[88 rows x 5 columns]"
      ]
     },
     "execution_count": 38,
     "metadata": {},
     "output_type": "execute_result"
    }
   ],
   "source": [
    "tweets_df"
   ]
  }
 ],
 "metadata": {
  "kernelspec": {
   "display_name": "Python 3.8.15 ('env': venv)",
   "language": "python",
   "name": "python3"
  },
  "language_info": {
   "codemirror_mode": {
    "name": "ipython",
    "version": 3
   },
   "file_extension": ".py",
   "mimetype": "text/x-python",
   "name": "python",
   "nbconvert_exporter": "python",
   "pygments_lexer": "ipython3",
   "version": "3.8.15"
  },
  "orig_nbformat": 4,
  "vscode": {
   "interpreter": {
    "hash": "9ce4e636d15bdcee560da1e79722e538a5cd7dedab5f9a03fb0856058c81f60b"
   }
  }
 },
 "nbformat": 4,
 "nbformat_minor": 2
}
