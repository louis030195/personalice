{
 "cells": [
  {
   "cell_type": "code",
   "execution_count": null,
   "metadata": {},
   "outputs": [],
   "source": [
    "import snscrape.modules.twitter as sntwitter\n",
    "import pandas as pd\n",
    "\n",
    "# Created a list to append all tweet attributes(data)\n",
    "attributes_container = []\n",
    "\n",
    "# Using TwitterSearchScraper to scrape data and append tweets to list\n",
    "for i,tweet in enumerate(sntwitter.TwitterSearchScraper('from:louis030195').get_items()):\n",
    "    if i>100:\n",
    "        break\n",
    "    attributes_container.append([tweet.date, tweet.likeCount, tweet.sourceLabel, tweet.content])\n",
    "    \n",
    "# Creating a dataframe from the tweets list above \n",
    "tweets_df = pd.DataFrame(attributes_container, columns=[\"Date Created\", \"Number of Likes\", \"Source of Tweet\", \"Tweets\"])\n",
    "tweets_df"
   ]
  },
  {
   "cell_type": "code",
   "execution_count": 30,
   "metadata": {},
   "outputs": [
    {
     "name": "stdout",
     "output_type": "stream",
     "text": [
      "Prompt: Tweet content: A rational person can find peace by cultivating indifference to things outside of their control.\n",
      "\n",
      "Short list of main topics: rationality,wisdom,stoicism\n",
      "\n",
      "###\n",
      "\n",
      "Tweet content: Good product design requires an obsessed artist - it’s not a part-time job.\n",
      "\n",
      "Short list of main topics: product-design,art,product\n",
      "\n",
      "###\n",
      "\n",
      "Tweet content: Your destiny is a result of your values,\n",
      "Which are a result of your habits,\n",
      "Which are a result of your actions,\n",
      "Which are a result of your words,\n",
      "Which are a result of your thoughts,\n",
      "Which are a result of your beliefs.\n",
      "\n",
      "Short list of main topics:\n",
      "Completion:  destiny,values,habits\n",
      "\n",
      "\n"
     ]
    },
    {
     "ename": "KeyboardInterrupt",
     "evalue": "",
     "output_type": "error",
     "traceback": [
      "\u001b[0;31m---------------------------------------------------------------------------\u001b[0m",
      "\u001b[0;31mKeyboardInterrupt\u001b[0m                         Traceback (most recent call last)",
      "Cell \u001b[0;32mIn [30], line 52\u001b[0m\n\u001b[1;32m     50\u001b[0m     \u001b[39mcontinue\u001b[39;00m\n\u001b[1;32m     51\u001b[0m \u001b[39mprint\u001b[39m(\u001b[39mf\u001b[39m\u001b[39m\"\u001b[39m\u001b[39mCompletion: \u001b[39m\u001b[39m{\u001b[39;00mresponse[\u001b[39m'\u001b[39m\u001b[39mchoices\u001b[39m\u001b[39m'\u001b[39m][\u001b[39m0\u001b[39m][\u001b[39m'\u001b[39m\u001b[39mtext\u001b[39m\u001b[39m'\u001b[39m]\u001b[39m}\u001b[39;00m\u001b[39m\"\u001b[39m)\n\u001b[0;32m---> 52\u001b[0m time\u001b[39m.\u001b[39;49msleep(delay)\n\u001b[1;32m     53\u001b[0m \u001b[39mfrom\u001b[39;00m \u001b[39mIPython\u001b[39;00m\u001b[39m.\u001b[39;00m display \u001b[39mimport\u001b[39;00m \u001b[39mclear_output\u001b[39;00m\n\u001b[1;32m     54\u001b[0m clear_output(wait\u001b[39m=\u001b[39m\u001b[39mTrue\u001b[39;00m)\n",
      "\u001b[0;31mKeyboardInterrupt\u001b[0m: "
     ]
    }
   ],
   "source": [
    "import os\n",
    "import openai\n",
    "import time\n",
    "import re\n",
    "values = open(\".env\", \"r\").read()\n",
    "openai_api_key = re.findall(r\"OPENAI_API_KEY=\\\"(.*)\\\"\", values)[0]\n",
    "openai_org = re.findall(r\"OPENAI_ORG=\\\"(.*)\\\"\", values)[0]\n",
    "openai.api_key = openai_api_key\n",
    "openai.organization = openai_org\n",
    "def build_prompt(tweet):\n",
    "  return f\"\"\"Tweet content: A rational person can find peace by cultivating indifference to things outside of their control.\n",
    "\n",
    "Short list of main topics: rationality,wisdom,stoicism\n",
    "\n",
    "###\n",
    "\n",
    "Tweet content: Good product design requires an obsessed artist - it’s not a part-time job.\n",
    "\n",
    "Short list of main topics: product-design,art,product\n",
    "\n",
    "###\n",
    "\n",
    "Tweet content: {tweet}\n",
    "\n",
    "Short list of main topics:\"\"\"\n",
    "\n",
    "delay = 5\n",
    "for k, v in tweets_df.iterrows():\n",
    "    tweet = v[\"Tweets\"]\n",
    "    prompt = build_prompt(tweet)\n",
    "    print(f\"Prompt: {prompt}\")\n",
    "    try:\n",
    "        response = openai.Completion.create(\n",
    "            model=\"code-davinci-002\",\n",
    "            prompt=prompt,\n",
    "            temperature=0,\n",
    "            max_tokens=256,\n",
    "            top_p=1,\n",
    "            frequency_penalty=0,\n",
    "            presence_penalty=0,\n",
    "            stop=[\"###\"]\n",
    "        )\n",
    "    # in case of RateLimitError, wait 1 minute and try again\n",
    "    except openai.error.RateLimitError:\n",
    "        time.sleep(60)\n",
    "        continue\n",
    "    if not response['choices'][0]['text']:\n",
    "        print(\"Could not generate topics for tweet: \", tweet)\n",
    "        time.sleep(delay)\n",
    "        continue\n",
    "    print(f\"Completion: {response['choices'][0]['text']}\")\n",
    "    time.sleep(delay)\n",
    "    from IPython. display import clear_output\n",
    "    clear_output(wait=True)"
   ]
  }
 ],
 "metadata": {
  "kernelspec": {
   "display_name": "Python 3.8.15 ('env': venv)",
   "language": "python",
   "name": "python3"
  },
  "language_info": {
   "codemirror_mode": {
    "name": "ipython",
    "version": 3
   },
   "file_extension": ".py",
   "mimetype": "text/x-python",
   "name": "python",
   "nbconvert_exporter": "python",
   "pygments_lexer": "ipython3",
   "version": "3.8.15"
  },
  "orig_nbformat": 4,
  "vscode": {
   "interpreter": {
    "hash": "9ce4e636d15bdcee560da1e79722e538a5cd7dedab5f9a03fb0856058c81f60b"
   }
  }
 },
 "nbformat": 4,
 "nbformat_minor": 2
}
